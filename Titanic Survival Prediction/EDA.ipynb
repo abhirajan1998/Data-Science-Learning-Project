{
 "cells": [
  {
   "cell_type": "markdown",
   "id": "0cb6cc2b-532d-44c3-a113-575ee2571cbd",
   "metadata": {},
   "source": [
    "# Titanic: Machine Learning from Disaster"
   ]
  },
  {
   "cell_type": "markdown",
   "id": "c270092a-87a5-478e-b11b-960653ad808f",
   "metadata": {},
   "source": [
    "Predict survival on the Titanic"
   ]
  },
  {
   "cell_type": "markdown",
   "id": "a2cb699c-05d6-44c4-b42d-40076b5c9233",
   "metadata": {},
   "source": [
    "## Description"
   ]
  },
  {
   "cell_type": "code",
   "execution_count": null,
   "id": "b723af20-4942-4318-8df3-792325041bf4",
   "metadata": {},
   "outputs": [],
   "source": []
  }
 ],
 "metadata": {
  "kernelspec": {
   "display_name": "Python 3 (ipykernel)",
   "language": "python",
   "name": "python3"
  },
  "language_info": {
   "codemirror_mode": {
    "name": "ipython",
    "version": 3
   },
   "file_extension": ".py",
   "mimetype": "text/x-python",
   "name": "python",
   "nbconvert_exporter": "python",
   "pygments_lexer": "ipython3",
   "version": "3.11.2"
  }
 },
 "nbformat": 4,
 "nbformat_minor": 5
}
