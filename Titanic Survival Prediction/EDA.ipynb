{
 "cells": [
  {
   "cell_type": "markdown",
   "id": "0cb6cc2b-532d-44c3-a113-575ee2571cbd",
   "metadata": {},
   "source": [
    "# Titanic: Machine Learning from Disaster"
   ]
  },
  {
   "cell_type": "markdown",
   "id": "c270092a-87a5-478e-b11b-960653ad808f",
   "metadata": {},
   "source": [
    "Predict survival on the Titanic"
   ]
  },
  {
   "cell_type": "markdown",
   "id": "a2cb699c-05d6-44c4-b42d-40076b5c9233",
   "metadata": {},
   "source": [
    "## Description"
   ]
  },
  {
   "cell_type": "markdown",
   "id": "176a398d-1229-49d6-a462-e0f96786932b",
   "metadata": {},
   "source": [
    "The sinking of the RMS Titanic is ine f the most infamous shipwrecks in history.On **April 15, 1912**, during her maiden voyage, the Titanic sank after colliding with an iceberg,killing **1,502** out of **2,224** passengers and crew.This sensational tragedy shocked the international community and led to better safety regulations for ships. "
   ]
  },
  {
   "cell_type": "markdown",
   "id": "d89575a0-21f3-4add-b6ab-6c11c1f2dd44",
   "metadata": {},
   "source": [
    "- One of the reasons that the shipwreck led to such loss of life was that:\n",
    "    - there were not enough lifeboats for the passengers and crew.\n",
    "    - Although there was some element of luck involved in surviving the sinking, some groups of people were more likely to survive than others, such as:\n",
    "        - women, children, and the upper-class."
   ]
  },
  {
   "cell_type": "markdown",
   "id": "7acaf3e7-5a62-4aa1-bfa3-13d3d2672c4a",
   "metadata": {},
   "source": [
    "## Goal:"
   ]
  },
  {
   "cell_type": "markdown",
   "id": "2d3521a6-a7a3-4a0b-bdde-814b992e7254",
   "metadata": {},
   "source": [
    "Apply machine learning techniques to successfully predict which passengers survived the sinking of the Titanic"
   ]
  },
  {
   "cell_type": "markdown",
   "id": "ea96678d-40fa-4b86-b5cb-14181d2b2b78",
   "metadata": {},
   "source": [
    "## Machine Learning \"Binary Classification\""
   ]
  },
  {
   "cell_type": "markdown",
   "id": "24f66af6-916b-4b79-ac19-318410051736",
   "metadata": {},
   "source": [
    "- Use pandas for data manipulation\n",
    "- Use matplotlib and seaborn for data visualization\n",
    "- Learn to build models with scikit-learn\n",
    "- Use cross-validation to make sure your model generalizes to new data (i.e., it doesn’t “overfit”)\n",
    "- Use parameter tuning and grid search to select the best performing model out of several different classification algorithms"
   ]
  },
  {
   "cell_type": "markdown",
   "id": "3a5a6c4e-4ddc-4eeb-8cd3-a7771506b55d",
   "metadata": {},
   "source": [
    "### Feature Engineering"
   ]
  },
  {
   "cell_type": "markdown",
   "id": "fd765d8d-7c9c-4ca9-8580-2958a13b43a8",
   "metadata": {},
   "source": [
    "Using existing features to create new features to determine if they provide new signals to predict our outcome. For this dataset, we will create a title feature to determine if it played a role in survival."
   ]
  },
  {
   "cell_type": "markdown",
   "id": "4fb48880-d507-48d3-be7c-97f0f1f698d9",
   "metadata": {},
   "source": [
    "### Metric"
   ]
  },
  {
   "cell_type": "markdown",
   "id": "03d9b681-502f-404f-8538-e92af32ca64f",
   "metadata": {},
   "source": [
    "Score is the percentage of passengers that correctly predict. This is known simply as **\"accuracy”**."
   ]
  },
  {
   "cell_type": "markdown",
   "id": "c9c82022-edc0-45dc-9b4c-89f9c6a17319",
   "metadata": {},
   "source": [
    "### XGBoost"
   ]
  },
  {
   "cell_type": "markdown",
   "id": "1018bd26-b364-45da-b994-6571bf75bbab",
   "metadata": {},
   "source": [
    "- Learn how to use the extremely popular XGBoost algorithm."
   ]
  },
  {
   "cell_type": "markdown",
   "id": "4f55b234-cca6-4e61-9806-f1df8ed5d438",
   "metadata": {},
   "source": [
    "### Ensembling/Stacking:"
   ]
  },
  {
   "cell_type": "markdown",
   "id": "b08e499e-687e-4bce-953e-dcfbf0328c5f",
   "metadata": {},
   "source": [
    "- Use the fundamental skill of “ensembling” to combine the predictions of several models"
   ]
  },
  {
   "cell_type": "markdown",
   "id": "87997072-842e-4060-82fc-4ee816126fbb",
   "metadata": {},
   "source": [
    "# Exploratory Data Analysis (EDA)"
   ]
  },
  {
   "cell_type": "markdown",
   "id": "9d00b28b-c6ac-4337-8f13-3c72c5d7cf3d",
   "metadata": {},
   "source": [
    "With a dataset of 891 passenger samples for our training set and their associated labels containing features like sex, age, and class etc.. attempt to predict the survivors of a small test group of 418 samples in the same format."
   ]
  },
  {
   "cell_type": "markdown",
   "id": "5520a26b-545b-4a61-9df0-efdb2b58f44f",
   "metadata": {},
   "source": [
    "|Variable Name | Description\n",
    "|:-------------:|:-------------|\n",
    "| PassengerId | Passenger's id\n",
    "| Survived | Survived (1) or died (0)\n",
    "| Pclass | Passenger’s class (1 = Upper, 2 = Middle, 3 = Lower)\n",
    "| Name | Passenger’s name\n",
    "| Sex| Passenger’s sex\n",
    "| Age| Passenger’s age\n",
    "| SibSp | Number of siblings/spouses aboard\n",
    "| Parch | Number of parents/children aboard\n",
    "| Ticket | Ticket number\n",
    "| Fare | Passenger’s fare\n",
    "| Cabin | Cabin number\n",
    "| Embarked | Port of embarkation (C = Cherbourg, Q = Queenstown, S = Southampton)"
   ]
  },
  {
   "cell_type": "code",
   "execution_count": 1,
   "id": "70620dec-79a6-45d4-a7a4-9edc4bb31dcc",
   "metadata": {
    "tags": []
   },
   "outputs": [],
   "source": [
    "# Data analysis and wrangling\n",
    "import pandas as pd\n",
    "import numpy as np\n",
    "\n",
    "# Visualization\n",
    "import seaborn as sns\n",
    "import matplotlib.pyplot as plt\n",
    "from matplotlib import rc\n",
    "\n",
    "# Configure visualisations\n",
    "%matplotlib inline\n",
    "plt.style.use('ggplot')\n",
    "\n",
    "# Configure seaborn\n",
    "sns.set_style('white',{\"xtick.major.size\": 5, \"ytick.major.size\": 5})\n",
    "\n",
    "\n",
    "plt.rcParams['figure.figsize'] = (15,6)\n",
    "plt.rcParams['font.size'] = 14\n",
    "plt.rcParams['axes.labelsize'] = 14\n",
    "plt.rcParams['axes.labelweight'] = 'bold'\n",
    "plt.rcParams['xtick.labelsize'] = 14\n",
    "plt.rcParams['ytick.labelsize'] = 14\n",
    "plt.rcParams['legend.fontsize'] = 16\n",
    "plt.rcParams['figure.titlesize'] = 18\n",
    "\n",
    "import warnings\n",
    "warnings.filterwarnings('ignore')"
   ]
  },
  {
   "cell_type": "code",
   "execution_count": 2,
   "id": "a4fcc269-2dab-4d20-9f94-8c41249ec693",
   "metadata": {
    "tags": []
   },
   "outputs": [],
   "source": [
    "# The training set should be used to build your machine learning models.\n",
    "train_df = pd.read_csv('train.csv')\n",
    "\n",
    "# The test set should be used to see how well your model performs on unseen data. \n",
    "test_df = pd.read_csv('test.csv')"
   ]
  },
  {
   "cell_type": "code",
   "execution_count": 3,
   "id": "c5c63ff0-78cc-41eb-b141-bbab0f9b6d15",
   "metadata": {
    "tags": []
   },
   "outputs": [
    {
     "name": "stdout",
     "output_type": "stream",
     "text": [
      "(891, 12) (418, 11)\n"
     ]
    }
   ],
   "source": [
    "print(train_df.shape, test_df.shape)"
   ]
  },
  {
   "cell_type": "code",
   "execution_count": 4,
   "id": "47b62377-93dd-4bba-9123-036973be7804",
   "metadata": {
    "tags": []
   },
   "outputs": [
    {
     "data": {
      "text/html": [
       "<div>\n",
       "<style scoped>\n",
       "    .dataframe tbody tr th:only-of-type {\n",
       "        vertical-align: middle;\n",
       "    }\n",
       "\n",
       "    .dataframe tbody tr th {\n",
       "        vertical-align: top;\n",
       "    }\n",
       "\n",
       "    .dataframe thead th {\n",
       "        text-align: right;\n",
       "    }\n",
       "</style>\n",
       "<table border=\"1\" class=\"dataframe\">\n",
       "  <thead>\n",
       "    <tr style=\"text-align: right;\">\n",
       "      <th></th>\n",
       "      <th>PassengerId</th>\n",
       "      <th>Survived</th>\n",
       "      <th>Pclass</th>\n",
       "      <th>Name</th>\n",
       "      <th>Sex</th>\n",
       "      <th>Age</th>\n",
       "      <th>SibSp</th>\n",
       "      <th>Parch</th>\n",
       "      <th>Ticket</th>\n",
       "      <th>Fare</th>\n",
       "      <th>Cabin</th>\n",
       "      <th>Embarked</th>\n",
       "    </tr>\n",
       "  </thead>\n",
       "  <tbody>\n",
       "    <tr>\n",
       "      <th>0</th>\n",
       "      <td>1</td>\n",
       "      <td>0</td>\n",
       "      <td>3</td>\n",
       "      <td>Braund, Mr. Owen Harris</td>\n",
       "      <td>male</td>\n",
       "      <td>22.0</td>\n",
       "      <td>1</td>\n",
       "      <td>0</td>\n",
       "      <td>A/5 21171</td>\n",
       "      <td>7.2500</td>\n",
       "      <td>NaN</td>\n",
       "      <td>S</td>\n",
       "    </tr>\n",
       "    <tr>\n",
       "      <th>1</th>\n",
       "      <td>2</td>\n",
       "      <td>1</td>\n",
       "      <td>1</td>\n",
       "      <td>Cumings, Mrs. John Bradley (Florence Briggs Th...</td>\n",
       "      <td>female</td>\n",
       "      <td>38.0</td>\n",
       "      <td>1</td>\n",
       "      <td>0</td>\n",
       "      <td>PC 17599</td>\n",
       "      <td>71.2833</td>\n",
       "      <td>C85</td>\n",
       "      <td>C</td>\n",
       "    </tr>\n",
       "    <tr>\n",
       "      <th>2</th>\n",
       "      <td>3</td>\n",
       "      <td>1</td>\n",
       "      <td>3</td>\n",
       "      <td>Heikkinen, Miss. Laina</td>\n",
       "      <td>female</td>\n",
       "      <td>26.0</td>\n",
       "      <td>0</td>\n",
       "      <td>0</td>\n",
       "      <td>STON/O2. 3101282</td>\n",
       "      <td>7.9250</td>\n",
       "      <td>NaN</td>\n",
       "      <td>S</td>\n",
       "    </tr>\n",
       "    <tr>\n",
       "      <th>3</th>\n",
       "      <td>4</td>\n",
       "      <td>1</td>\n",
       "      <td>1</td>\n",
       "      <td>Futrelle, Mrs. Jacques Heath (Lily May Peel)</td>\n",
       "      <td>female</td>\n",
       "      <td>35.0</td>\n",
       "      <td>1</td>\n",
       "      <td>0</td>\n",
       "      <td>113803</td>\n",
       "      <td>53.1000</td>\n",
       "      <td>C123</td>\n",
       "      <td>S</td>\n",
       "    </tr>\n",
       "    <tr>\n",
       "      <th>4</th>\n",
       "      <td>5</td>\n",
       "      <td>0</td>\n",
       "      <td>3</td>\n",
       "      <td>Allen, Mr. William Henry</td>\n",
       "      <td>male</td>\n",
       "      <td>35.0</td>\n",
       "      <td>0</td>\n",
       "      <td>0</td>\n",
       "      <td>373450</td>\n",
       "      <td>8.0500</td>\n",
       "      <td>NaN</td>\n",
       "      <td>S</td>\n",
       "    </tr>\n",
       "  </tbody>\n",
       "</table>\n",
       "</div>"
      ],
      "text/plain": [
       "   PassengerId  Survived  Pclass  \\\n",
       "0            1         0       3   \n",
       "1            2         1       1   \n",
       "2            3         1       3   \n",
       "3            4         1       1   \n",
       "4            5         0       3   \n",
       "\n",
       "                                                Name     Sex   Age  SibSp  \\\n",
       "0                            Braund, Mr. Owen Harris    male  22.0      1   \n",
       "1  Cumings, Mrs. John Bradley (Florence Briggs Th...  female  38.0      1   \n",
       "2                             Heikkinen, Miss. Laina  female  26.0      0   \n",
       "3       Futrelle, Mrs. Jacques Heath (Lily May Peel)  female  35.0      1   \n",
       "4                           Allen, Mr. William Henry    male  35.0      0   \n",
       "\n",
       "   Parch            Ticket     Fare Cabin Embarked  \n",
       "0      0         A/5 21171   7.2500   NaN        S  \n",
       "1      0          PC 17599  71.2833   C85        C  \n",
       "2      0  STON/O2. 3101282   7.9250   NaN        S  \n",
       "3      0            113803  53.1000  C123        S  \n",
       "4      0            373450   8.0500   NaN        S  "
      ]
     },
     "execution_count": 4,
     "metadata": {},
     "output_type": "execute_result"
    }
   ],
   "source": [
    "train_df.head()"
   ]
  },
  {
   "cell_type": "code",
   "execution_count": 5,
   "id": "d5bbdfc7-d784-4249-87e8-0e0754cb6b38",
   "metadata": {
    "tags": []
   },
   "outputs": [],
   "source": [
    "train_df['Sex'] = train_df['Sex'].str.capitalize()\n",
    "test_df['Sex'] = test_df['Sex'].str.capitalize()"
   ]
  },
  {
   "cell_type": "code",
   "execution_count": 6,
   "id": "6229f1e5-700a-405e-b779-a7d34c5a73eb",
   "metadata": {
    "tags": []
   },
   "outputs": [],
   "source": [
    "# Combine train and test data\n",
    "all_data = pd.concat([train_df, test_df], ignore_index=True)"
   ]
  },
  {
   "cell_type": "code",
   "execution_count": 7,
   "id": "e7a6f7d1-633b-47c3-b772-3a7a2e08ec3f",
   "metadata": {
    "tags": []
   },
   "outputs": [
    {
     "data": {
      "text/html": [
       "<div>\n",
       "<style scoped>\n",
       "    .dataframe tbody tr th:only-of-type {\n",
       "        vertical-align: middle;\n",
       "    }\n",
       "\n",
       "    .dataframe tbody tr th {\n",
       "        vertical-align: top;\n",
       "    }\n",
       "\n",
       "    .dataframe thead th {\n",
       "        text-align: right;\n",
       "    }\n",
       "</style>\n",
       "<table border=\"1\" class=\"dataframe\">\n",
       "  <thead>\n",
       "    <tr style=\"text-align: right;\">\n",
       "      <th></th>\n",
       "      <th>PassengerId</th>\n",
       "      <th>Survived</th>\n",
       "      <th>Pclass</th>\n",
       "      <th>Name</th>\n",
       "      <th>Sex</th>\n",
       "      <th>Age</th>\n",
       "      <th>SibSp</th>\n",
       "      <th>Parch</th>\n",
       "      <th>Ticket</th>\n",
       "      <th>Fare</th>\n",
       "      <th>Cabin</th>\n",
       "      <th>Embarked</th>\n",
       "    </tr>\n",
       "  </thead>\n",
       "  <tbody>\n",
       "    <tr>\n",
       "      <th>0</th>\n",
       "      <td>1</td>\n",
       "      <td>0.0</td>\n",
       "      <td>3</td>\n",
       "      <td>Braund, Mr. Owen Harris</td>\n",
       "      <td>Male</td>\n",
       "      <td>22.0</td>\n",
       "      <td>1</td>\n",
       "      <td>0</td>\n",
       "      <td>A/5 21171</td>\n",
       "      <td>7.2500</td>\n",
       "      <td>NaN</td>\n",
       "      <td>S</td>\n",
       "    </tr>\n",
       "    <tr>\n",
       "      <th>1</th>\n",
       "      <td>2</td>\n",
       "      <td>1.0</td>\n",
       "      <td>1</td>\n",
       "      <td>Cumings, Mrs. John Bradley (Florence Briggs Th...</td>\n",
       "      <td>Female</td>\n",
       "      <td>38.0</td>\n",
       "      <td>1</td>\n",
       "      <td>0</td>\n",
       "      <td>PC 17599</td>\n",
       "      <td>71.2833</td>\n",
       "      <td>C85</td>\n",
       "      <td>C</td>\n",
       "    </tr>\n",
       "    <tr>\n",
       "      <th>2</th>\n",
       "      <td>3</td>\n",
       "      <td>1.0</td>\n",
       "      <td>3</td>\n",
       "      <td>Heikkinen, Miss. Laina</td>\n",
       "      <td>Female</td>\n",
       "      <td>26.0</td>\n",
       "      <td>0</td>\n",
       "      <td>0</td>\n",
       "      <td>STON/O2. 3101282</td>\n",
       "      <td>7.9250</td>\n",
       "      <td>NaN</td>\n",
       "      <td>S</td>\n",
       "    </tr>\n",
       "    <tr>\n",
       "      <th>3</th>\n",
       "      <td>4</td>\n",
       "      <td>1.0</td>\n",
       "      <td>1</td>\n",
       "      <td>Futrelle, Mrs. Jacques Heath (Lily May Peel)</td>\n",
       "      <td>Female</td>\n",
       "      <td>35.0</td>\n",
       "      <td>1</td>\n",
       "      <td>0</td>\n",
       "      <td>113803</td>\n",
       "      <td>53.1000</td>\n",
       "      <td>C123</td>\n",
       "      <td>S</td>\n",
       "    </tr>\n",
       "    <tr>\n",
       "      <th>4</th>\n",
       "      <td>5</td>\n",
       "      <td>0.0</td>\n",
       "      <td>3</td>\n",
       "      <td>Allen, Mr. William Henry</td>\n",
       "      <td>Male</td>\n",
       "      <td>35.0</td>\n",
       "      <td>0</td>\n",
       "      <td>0</td>\n",
       "      <td>373450</td>\n",
       "      <td>8.0500</td>\n",
       "      <td>NaN</td>\n",
       "      <td>S</td>\n",
       "    </tr>\n",
       "    <tr>\n",
       "      <th>...</th>\n",
       "      <td>...</td>\n",
       "      <td>...</td>\n",
       "      <td>...</td>\n",
       "      <td>...</td>\n",
       "      <td>...</td>\n",
       "      <td>...</td>\n",
       "      <td>...</td>\n",
       "      <td>...</td>\n",
       "      <td>...</td>\n",
       "      <td>...</td>\n",
       "      <td>...</td>\n",
       "      <td>...</td>\n",
       "    </tr>\n",
       "    <tr>\n",
       "      <th>1304</th>\n",
       "      <td>1305</td>\n",
       "      <td>NaN</td>\n",
       "      <td>3</td>\n",
       "      <td>Spector, Mr. Woolf</td>\n",
       "      <td>Male</td>\n",
       "      <td>NaN</td>\n",
       "      <td>0</td>\n",
       "      <td>0</td>\n",
       "      <td>A.5. 3236</td>\n",
       "      <td>8.0500</td>\n",
       "      <td>NaN</td>\n",
       "      <td>S</td>\n",
       "    </tr>\n",
       "    <tr>\n",
       "      <th>1305</th>\n",
       "      <td>1306</td>\n",
       "      <td>NaN</td>\n",
       "      <td>1</td>\n",
       "      <td>Oliva y Ocana, Dona. Fermina</td>\n",
       "      <td>Female</td>\n",
       "      <td>39.0</td>\n",
       "      <td>0</td>\n",
       "      <td>0</td>\n",
       "      <td>PC 17758</td>\n",
       "      <td>108.9000</td>\n",
       "      <td>C105</td>\n",
       "      <td>C</td>\n",
       "    </tr>\n",
       "    <tr>\n",
       "      <th>1306</th>\n",
       "      <td>1307</td>\n",
       "      <td>NaN</td>\n",
       "      <td>3</td>\n",
       "      <td>Saether, Mr. Simon Sivertsen</td>\n",
       "      <td>Male</td>\n",
       "      <td>38.5</td>\n",
       "      <td>0</td>\n",
       "      <td>0</td>\n",
       "      <td>SOTON/O.Q. 3101262</td>\n",
       "      <td>7.2500</td>\n",
       "      <td>NaN</td>\n",
       "      <td>S</td>\n",
       "    </tr>\n",
       "    <tr>\n",
       "      <th>1307</th>\n",
       "      <td>1308</td>\n",
       "      <td>NaN</td>\n",
       "      <td>3</td>\n",
       "      <td>Ware, Mr. Frederick</td>\n",
       "      <td>Male</td>\n",
       "      <td>NaN</td>\n",
       "      <td>0</td>\n",
       "      <td>0</td>\n",
       "      <td>359309</td>\n",
       "      <td>8.0500</td>\n",
       "      <td>NaN</td>\n",
       "      <td>S</td>\n",
       "    </tr>\n",
       "    <tr>\n",
       "      <th>1308</th>\n",
       "      <td>1309</td>\n",
       "      <td>NaN</td>\n",
       "      <td>3</td>\n",
       "      <td>Peter, Master. Michael J</td>\n",
       "      <td>Male</td>\n",
       "      <td>NaN</td>\n",
       "      <td>1</td>\n",
       "      <td>1</td>\n",
       "      <td>2668</td>\n",
       "      <td>22.3583</td>\n",
       "      <td>NaN</td>\n",
       "      <td>C</td>\n",
       "    </tr>\n",
       "  </tbody>\n",
       "</table>\n",
       "<p>1309 rows × 12 columns</p>\n",
       "</div>"
      ],
      "text/plain": [
       "      PassengerId  Survived  Pclass  \\\n",
       "0               1       0.0       3   \n",
       "1               2       1.0       1   \n",
       "2               3       1.0       3   \n",
       "3               4       1.0       1   \n",
       "4               5       0.0       3   \n",
       "...           ...       ...     ...   \n",
       "1304         1305       NaN       3   \n",
       "1305         1306       NaN       1   \n",
       "1306         1307       NaN       3   \n",
       "1307         1308       NaN       3   \n",
       "1308         1309       NaN       3   \n",
       "\n",
       "                                                   Name     Sex   Age  SibSp  \\\n",
       "0                               Braund, Mr. Owen Harris    Male  22.0      1   \n",
       "1     Cumings, Mrs. John Bradley (Florence Briggs Th...  Female  38.0      1   \n",
       "2                                Heikkinen, Miss. Laina  Female  26.0      0   \n",
       "3          Futrelle, Mrs. Jacques Heath (Lily May Peel)  Female  35.0      1   \n",
       "4                              Allen, Mr. William Henry    Male  35.0      0   \n",
       "...                                                 ...     ...   ...    ...   \n",
       "1304                                 Spector, Mr. Woolf    Male   NaN      0   \n",
       "1305                       Oliva y Ocana, Dona. Fermina  Female  39.0      0   \n",
       "1306                       Saether, Mr. Simon Sivertsen    Male  38.5      0   \n",
       "1307                                Ware, Mr. Frederick    Male   NaN      0   \n",
       "1308                           Peter, Master. Michael J    Male   NaN      1   \n",
       "\n",
       "      Parch              Ticket      Fare Cabin Embarked  \n",
       "0         0           A/5 21171    7.2500   NaN        S  \n",
       "1         0            PC 17599   71.2833   C85        C  \n",
       "2         0    STON/O2. 3101282    7.9250   NaN        S  \n",
       "3         0              113803   53.1000  C123        S  \n",
       "4         0              373450    8.0500   NaN        S  \n",
       "...     ...                 ...       ...   ...      ...  \n",
       "1304      0           A.5. 3236    8.0500   NaN        S  \n",
       "1305      0            PC 17758  108.9000  C105        C  \n",
       "1306      0  SOTON/O.Q. 3101262    7.2500   NaN        S  \n",
       "1307      0              359309    8.0500   NaN        S  \n",
       "1308      1                2668   22.3583   NaN        C  \n",
       "\n",
       "[1309 rows x 12 columns]"
      ]
     },
     "execution_count": 7,
     "metadata": {},
     "output_type": "execute_result"
    }
   ],
   "source": [
    "all_data"
   ]
  },
  {
   "cell_type": "code",
   "execution_count": 8,
   "id": "fe0c6f9f-031c-40ac-93de-b5c0efda327c",
   "metadata": {
    "tags": []
   },
   "outputs": [
    {
     "name": "stdout",
     "output_type": "stream",
     "text": [
      "['PassengerId' 'Survived' 'Pclass' 'Name' 'Sex' 'Age' 'SibSp' 'Parch'\n",
      " 'Ticket' 'Fare' 'Cabin' 'Embarked']\n"
     ]
    }
   ],
   "source": [
    "# Features are available in dataset\n",
    "print(train_df.columns.values)"
   ]
  },
  {
   "cell_type": "markdown",
   "id": "7271f794-65b4-478e-b8f1-3fd725ea53d2",
   "metadata": {},
   "source": [
    "### Data Types"
   ]
  },
  {
   "cell_type": "markdown",
   "id": "556c8b5a-52dc-4005-976c-1f9d43921690",
   "metadata": {},
   "source": [
    "#### Categorical features\n",
    "- **Nominal:** Survived, Sex and Embarked\n",
    "- **Ordinal:** Pclass"
   ]
  },
  {
   "cell_type": "markdown",
   "id": "8613fe36-0cc0-4606-8444-8184504a946e",
   "metadata": {},
   "source": [
    "#### Numerical Features\n",
    "- **Continous:** Age, Fare\n",
    "- **Discrete:** SibSp, Parch"
   ]
  },
  {
   "cell_type": "markdown",
   "id": "bd2873f5-8624-47cb-a86a-145f052a39b7",
   "metadata": {},
   "source": [
    "#### Features are mixed data types"
   ]
  },
  {
   "cell_type": "markdown",
   "id": "b8a7640a-6ed9-467e-a188-b4b4aaa896c4",
   "metadata": {},
   "source": [
    "Numerical, alphanumeric data within same feature."
   ]
  },
  {
   "cell_type": "markdown",
   "id": "78c89c10-93ee-4e7d-8238-e63a7ee6a0d1",
   "metadata": {},
   "source": [
    "- **Ticket**: is a mix of numeric and alphanumeric data types.\n",
    "- **Cabin**: is alphanumeric."
   ]
  },
  {
   "cell_type": "markdown",
   "id": "4ef3d02a-d39d-40ab-a343-945c9d531be9",
   "metadata": {},
   "source": [
    "Total samples are **891** or **40%** of the actual number of passengers on board the Titanic."
   ]
  },
  {
   "cell_type": "code",
   "execution_count": 9,
   "id": "90315cdb-efe4-4358-a454-331779e07158",
   "metadata": {
    "tags": []
   },
   "outputs": [
    {
     "name": "stdout",
     "output_type": "stream",
     "text": [
      "<class 'pandas.core.frame.DataFrame'>\n",
      "RangeIndex: 891 entries, 0 to 890\n",
      "Data columns (total 12 columns):\n",
      " #   Column       Non-Null Count  Dtype  \n",
      "---  ------       --------------  -----  \n",
      " 0   PassengerId  891 non-null    int64  \n",
      " 1   Survived     891 non-null    int64  \n",
      " 2   Pclass       891 non-null    int64  \n",
      " 3   Name         891 non-null    object \n",
      " 4   Sex          891 non-null    object \n",
      " 5   Age          714 non-null    float64\n",
      " 6   SibSp        891 non-null    int64  \n",
      " 7   Parch        891 non-null    int64  \n",
      " 8   Ticket       891 non-null    object \n",
      " 9   Fare         891 non-null    float64\n",
      " 10  Cabin        204 non-null    object \n",
      " 11  Embarked     889 non-null    object \n",
      "dtypes: float64(2), int64(5), object(5)\n",
      "memory usage: 83.7+ KB\n",
      "--------------------------------------------------\n",
      "<class 'pandas.core.frame.DataFrame'>\n",
      "RangeIndex: 418 entries, 0 to 417\n",
      "Data columns (total 11 columns):\n",
      " #   Column       Non-Null Count  Dtype  \n",
      "---  ------       --------------  -----  \n",
      " 0   PassengerId  418 non-null    int64  \n",
      " 1   Pclass       418 non-null    int64  \n",
      " 2   Name         418 non-null    object \n",
      " 3   Sex          418 non-null    object \n",
      " 4   Age          332 non-null    float64\n",
      " 5   SibSp        418 non-null    int64  \n",
      " 6   Parch        418 non-null    int64  \n",
      " 7   Ticket       418 non-null    object \n",
      " 8   Fare         417 non-null    float64\n",
      " 9   Cabin        91 non-null     object \n",
      " 10  Embarked     418 non-null    object \n",
      "dtypes: float64(2), int64(4), object(5)\n",
      "memory usage: 36.1+ KB\n"
     ]
    }
   ],
   "source": [
    "train_df.info()\n",
    "print(\"--\"*25)\n",
    "test_df.info()"
   ]
  },
  {
   "cell_type": "markdown",
   "id": "92183c9e-ca0a-4480-bb20-d5795f694572",
   "metadata": {},
   "source": [
    "### Missing Values\n",
    "- **Age,Cabin,Embarked and Fare** features contains blank,null or empty values."
   ]
  },
  {
   "cell_type": "code",
   "execution_count": 10,
   "id": "a4f090bd-5ccb-4ed3-a1b1-edf769859d98",
   "metadata": {
    "tags": []
   },
   "outputs": [
    {
     "data": {
      "text/html": [
       "<div>\n",
       "<style scoped>\n",
       "    .dataframe tbody tr th:only-of-type {\n",
       "        vertical-align: middle;\n",
       "    }\n",
       "\n",
       "    .dataframe tbody tr th {\n",
       "        vertical-align: top;\n",
       "    }\n",
       "\n",
       "    .dataframe thead th {\n",
       "        text-align: right;\n",
       "    }\n",
       "</style>\n",
       "<table border=\"1\" class=\"dataframe\">\n",
       "  <thead>\n",
       "    <tr style=\"text-align: right;\">\n",
       "      <th></th>\n",
       "      <th>PassengerId</th>\n",
       "      <th>Survived</th>\n",
       "      <th>Pclass</th>\n",
       "      <th>Name</th>\n",
       "      <th>Sex</th>\n",
       "      <th>Age</th>\n",
       "      <th>SibSp</th>\n",
       "      <th>Parch</th>\n",
       "      <th>Ticket</th>\n",
       "      <th>Fare</th>\n",
       "      <th>Cabin</th>\n",
       "      <th>Embarked</th>\n",
       "    </tr>\n",
       "  </thead>\n",
       "  <tbody>\n",
       "    <tr>\n",
       "      <th>0</th>\n",
       "      <td>1</td>\n",
       "      <td>0.0</td>\n",
       "      <td>3</td>\n",
       "      <td>Braund, Mr. Owen Harris</td>\n",
       "      <td>Male</td>\n",
       "      <td>22.0</td>\n",
       "      <td>1</td>\n",
       "      <td>0</td>\n",
       "      <td>A/5 21171</td>\n",
       "      <td>7.2500</td>\n",
       "      <td>NaN</td>\n",
       "      <td>S</td>\n",
       "    </tr>\n",
       "    <tr>\n",
       "      <th>1</th>\n",
       "      <td>2</td>\n",
       "      <td>1.0</td>\n",
       "      <td>1</td>\n",
       "      <td>Cumings, Mrs. John Bradley (Florence Briggs Th...</td>\n",
       "      <td>Female</td>\n",
       "      <td>38.0</td>\n",
       "      <td>1</td>\n",
       "      <td>0</td>\n",
       "      <td>PC 17599</td>\n",
       "      <td>71.2833</td>\n",
       "      <td>C85</td>\n",
       "      <td>C</td>\n",
       "    </tr>\n",
       "    <tr>\n",
       "      <th>2</th>\n",
       "      <td>3</td>\n",
       "      <td>1.0</td>\n",
       "      <td>3</td>\n",
       "      <td>Heikkinen, Miss. Laina</td>\n",
       "      <td>Female</td>\n",
       "      <td>26.0</td>\n",
       "      <td>0</td>\n",
       "      <td>0</td>\n",
       "      <td>STON/O2. 3101282</td>\n",
       "      <td>7.9250</td>\n",
       "      <td>NaN</td>\n",
       "      <td>S</td>\n",
       "    </tr>\n",
       "  </tbody>\n",
       "</table>\n",
       "</div>"
      ],
      "text/plain": [
       "   PassengerId  Survived  Pclass  \\\n",
       "0            1       0.0       3   \n",
       "1            2       1.0       1   \n",
       "2            3       1.0       3   \n",
       "\n",
       "                                                Name     Sex   Age  SibSp  \\\n",
       "0                            Braund, Mr. Owen Harris    Male  22.0      1   \n",
       "1  Cumings, Mrs. John Bradley (Florence Briggs Th...  Female  38.0      1   \n",
       "2                             Heikkinen, Miss. Laina  Female  26.0      0   \n",
       "\n",
       "   Parch            Ticket     Fare Cabin Embarked  \n",
       "0      0         A/5 21171   7.2500   NaN        S  \n",
       "1      0          PC 17599  71.2833   C85        C  \n",
       "2      0  STON/O2. 3101282   7.9250   NaN        S  "
      ]
     },
     "execution_count": 10,
     "metadata": {},
     "output_type": "execute_result"
    }
   ],
   "source": [
    "all_data.head(3)"
   ]
  },
  {
   "cell_type": "code",
   "execution_count": 11,
   "id": "1b648bed-1fdf-4f8f-bf6e-8f5be3b80cb6",
   "metadata": {
    "tags": []
   },
   "outputs": [
    {
     "data": {
      "text/html": [
       "<div>\n",
       "<style scoped>\n",
       "    .dataframe tbody tr th:only-of-type {\n",
       "        vertical-align: middle;\n",
       "    }\n",
       "\n",
       "    .dataframe tbody tr th {\n",
       "        vertical-align: top;\n",
       "    }\n",
       "\n",
       "    .dataframe thead th {\n",
       "        text-align: right;\n",
       "    }\n",
       "</style>\n",
       "<table border=\"1\" class=\"dataframe\">\n",
       "  <thead>\n",
       "    <tr style=\"text-align: right;\">\n",
       "      <th></th>\n",
       "      <th>NaN</th>\n",
       "      <th>Percentage</th>\n",
       "    </tr>\n",
       "  </thead>\n",
       "  <tbody>\n",
       "    <tr>\n",
       "      <th>Cabin</th>\n",
       "      <td>1014</td>\n",
       "      <td>77.46%</td>\n",
       "    </tr>\n",
       "    <tr>\n",
       "      <th>Age</th>\n",
       "      <td>263</td>\n",
       "      <td>20.09%</td>\n",
       "    </tr>\n",
       "    <tr>\n",
       "      <th>Embarked</th>\n",
       "      <td>2</td>\n",
       "      <td>0.15%</td>\n",
       "    </tr>\n",
       "    <tr>\n",
       "      <th>Fare</th>\n",
       "      <td>1</td>\n",
       "      <td>0.08%</td>\n",
       "    </tr>\n",
       "  </tbody>\n",
       "</table>\n",
       "</div>"
      ],
      "text/plain": [
       "           NaN Percentage\n",
       "Cabin     1014     77.46%\n",
       "Age        263     20.09%\n",
       "Embarked     2      0.15%\n",
       "Fare         1      0.08%"
      ]
     },
     "execution_count": 11,
     "metadata": {},
     "output_type": "execute_result"
    }
   ],
   "source": [
    "missingValue = pd.DataFrame(all_data.iloc[:,2:].isnull().sum(axis=0).sort_values(ascending=False),columns=['NaN'])\n",
    "missingValue[\"Percentage\"]= missingValue.NaN.apply(lambda x: '{:.2f}%'.format((float(x)/all_data.shape[0])*100))\n",
    "missingValue[missingValue.NaN > 0] "
   ]
  },
  {
   "cell_type": "markdown",
   "id": "db5c6d50-c4b9-4274-bb99-2cf367d94f69",
   "metadata": {},
   "source": [
    "### Analyzing Features"
   ]
  },
  {
   "cell_type": "markdown",
   "id": "bba06e0b-fb64-44da-b7d1-5f9881496cc1",
   "metadata": {},
   "source": [
    "Observations for all features:"
   ]
  },
  {
   "cell_type": "markdown",
   "id": "442c9721-fca0-4b46-a4bb-fb4c6200bb40",
   "metadata": {},
   "source": [
    "- **Sex**: The chance of survival for women is high as compared to men.\n",
    "\n",
    "- **Pclass**: Higher socio-economic status passenger survived more than others. Being a first class passenger have better chances of survival. The survival rate for Pclass3 is very low. For women, the chance of survival from Pclass1 is almost 1 and is high too for those from Pclass2.\n",
    "\n",
    "- **Age**: Younger passenger survived more than other passengers like children less than 5-10 years do have a high chance of survival. Passengers between age group 15 to 35 died a lot.\n",
    "\n",
    "- **Embarked**: This is a very interesting feature. The chances of survival at C looks to be better than even though the majority of Pclass1 passengers got up at S. Passengers at Q were all from Pclass3.\n",
    "\n",
    "- **Parch + SibSp** : Having 1-2 siblings,spouse on board or 1-3 Parents shows a greater chance of probablity rather than being alone or having a large family travelling with you."
   ]
  },
  {
   "cell_type": "markdown",
   "id": "9046c0a9-5061-4f2d-b170-22a7040161df",
   "metadata": {},
   "source": [
    "### Taget Variable"
   ]
  },
  {
   "cell_type": "markdown",
   "id": "64114a84-b5b5-4b37-8797-6942289d9e89",
   "metadata": {},
   "source": [
    "- **Survived**"
   ]
  },
  {
   "cell_type": "markdown",
   "id": "7b4757e2-121d-48c9-9e47-52401f5ed7c8",
   "metadata": {},
   "source": [
    "#### How many survived?"
   ]
  },
  {
   "cell_type": "markdown",
   "id": "23eead93-f586-4dba-843e-678db8aeecf7",
   "metadata": {},
   "source": [
    "It is evident that not many passengers survived the accident"
   ]
  },
  {
   "cell_type": "markdown",
   "id": "1e8343ec-220d-4366-a2a7-5a6bab27bc39",
   "metadata": {},
   "source": [
    "- Out of **891** passengers in training set, only **342** survived **38.4%** of the total training set survived."
   ]
  },
  {
   "cell_type": "code",
   "execution_count": 28,
   "id": "03230725-720a-4b15-a728-fc56d5144ab1",
   "metadata": {
    "tags": []
   },
   "outputs": [],
   "source": [
    "# train_df['Survived'].value_counts().plot.pie(explode=[0,0.1], autopct='%1.1f%%', ax=axes[0],\n",
    "                                            # labels=labels,colors=['red','green'], shadow=True, startangle=90)"
   ]
  },
  {
   "cell_type": "code",
   "execution_count": 51,
   "id": "267abcf4-aacb-4ec9-b7f8-a36af3e33718",
   "metadata": {
    "tags": []
   },
   "outputs": [],
   "source": [
    "#plt.suptitle(\"How many people Died and Survived on the Titanic\", fontsize=15)\n",
    "#labels=['Died', 'Survived']\n",
    "#train_df['Survived'].value_counts().plot.pie(explode=[0,0.1], autopct='%1.1f%%', labels=labels,colors=['red','green'], shadow=True, startangle=90)\n"
   ]
  },
  {
   "cell_type": "code",
   "execution_count": 52,
   "id": "b8feb2a6-a987-4e39-b910-7903308ee263",
   "metadata": {
    "tags": []
   },
   "outputs": [],
   "source": [
    "# Text Annotation\n",
    "def text_annotate(cnt):\n",
    "    for i in cnt.patches:\n",
    "        height = i.get_height()\n",
    "        cnt.text(i.get_x() + i.get_width()/2., height,'%d' % int(height),ha='center',va='bottom')"
   ]
  },
  {
   "cell_type": "code",
   "execution_count": 53,
   "id": "0e0237f0-872c-4602-b11f-a8342d7f7711",
   "metadata": {
    "tags": []
   },
   "outputs": [],
   "source": [
    "pclass = {1:'Upper',2:'Middle',3:'Lower'}\n",
    "survived = {0:'No',1:'Yes'}\n",
    "embark = {'C':' Cherbourg', 'Q': 'Queenstown', 'S': 'Southampton'}"
   ]
  },
  {
   "cell_type": "code",
   "execution_count": 54,
   "id": "dae389e9-f129-4f95-bfa3-4f4aba19c9a4",
   "metadata": {
    "tags": []
   },
   "outputs": [
    {
     "data": {
      "image/png": "[encoded data removed]",
      "text/plain": [
       "<Figure size 1500x600 with 2 Axes>"
      ]
     },
     "metadata": {},
     "output_type": "display_data"
    }
   ],
   "source": [
    "fig,axes=plt.subplots(1,2)\n",
    "plt.suptitle('How many people died and survived on the Titanic?',fontsize=16)\n",
    "labels = ['Died','Survived']\n",
    "# Pie chart\n",
    "train_df['Survived'].value_counts().plot.pie(explode=[0,0.1], autopct='%1.1f%%', ax=axes[0],\n",
    "                                             labels=labels,colors=['red','green'], shadow=True, startangle=90)\n",
    "\n",
    "axes[0].set_ylabel('')\n",
    "# Bar chart\n",
    "cnt = sns.countplot(x = 'Survived', data=train_df, palette=['red', 'green'], ax=axes[1])\n",
    "axes[1].set_xlabel('')\n",
    "axes[1].set_xticklabels(labels)\n",
    "text_annotate(cnt)\n",
    "plt.show()"
   ]
  },
  {
   "cell_type": "code",
   "execution_count": null,
   "id": "29697dce-76e0-4896-a149-dcced2225a1d",
   "metadata": {},
   "outputs": [],
   "source": []
  }
 ],
 "metadata": {
  "kernelspec": {
   "display_name": "Python 3 (ipykernel)",
   "language": "python",
   "name": "python3"
  },
  "language_info": {
   "codemirror_mode": {
    "name": "ipython",
    "version": 3
   },
   "file_extension": ".py",
   "mimetype": "text/x-python",
   "name": "python",
   "nbconvert_exporter": "python",
   "pygments_lexer": "ipython3",
   "version": "3.11.2"
  }
 },
 "nbformat": 4,
 "nbformat_minor": 5
}
